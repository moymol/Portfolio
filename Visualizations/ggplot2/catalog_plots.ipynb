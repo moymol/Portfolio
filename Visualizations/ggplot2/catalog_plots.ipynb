{
 "cells": [
  {
   "cell_type": "markdown",
   "metadata": {},
   "source": [
    "# Catalog of plots\n",
    "__Author:__ Moycoyani Molina-Espíritu\n",
    "\n",
    "__date:__ October 01, 2018\n",
    "\n",
    "\n",
    "A catalog of several plots, and formats, is found in this notebook. The main idea is to have the right code for the right plot, and do not waste time by coding the plots again and again."
   ]
  },
  {
   "cell_type": "code",
   "execution_count": 1,
   "metadata": {},
   "outputs": [],
   "source": [
    "library(ggplot2)\n",
    "library(repr)\n",
    "count <- plyr::count\n",
    "options(repr.plot.width=5, repr.plot.height=3)"
   ]
  },
  {
   "cell_type": "markdown",
   "metadata": {},
   "source": [
    "Unlike python, ggplot customization is straightforward. The syntax is compossed by few componentes, the most important are the __data component__, the __geometrical representation__ of the data, and the __coordinate system__. As we pretend to have an uniform format for our plots, we set this format with: "
   ]
  },
  {
   "cell_type": "code",
   "execution_count": 2,
   "metadata": {},
   "outputs": [],
   "source": [
    "#Assigning the title and lables of the plot\n",
    "labels_g <- function(l_title,xlabel,ylabel)\n",
    "{return(labs(title=l_title,x=xlabel,y=ylabel))\n",
    "}\n",
    "\n",
    "#Format of the chart, this function could be customizable for desired effects \n",
    "format_g <- function(fontsize)\n",
    "{return(theme(axis.ticks = element_line(colour = '#B1B1B1'), axis.text=element_text(size=fontsize,colour='#B1B1B1'),\n",
    "                 axis.title=element_text(size=fontsize,colour='#B1B1B1'),\n",
    "                 plot.title = element_text(size=fontsize*1.5,colour='#545454',margin=margin(0,0,30,0)), #top, right, bottom, left\n",
    "                 panel.grid.major = element_blank(),\n",
    "                 panel.grid.minor = element_blank(),\n",
    "                 panel.background = element_blank(),\n",
    "                 axis.line=element_line(colour='#B1B1B1')))}"
   ]
  },
  {
   "cell_type": "markdown",
   "metadata": {},
   "source": [
    "The format is builded by considering design elements, and recommendations, that improve the visualization of the plot."
   ]
  },
  {
   "cell_type": "markdown",
   "metadata": {},
   "source": [
    "\n",
    "## Scatter plot\n",
    "Do you want to see the relationship among two (or more) variables? This is the chart you are looking for."
   ]
  },
  {
   "cell_type": "markdown",
   "metadata": {},
   "source": [
    "## Examples\n",
    "\n",
    "### 2D functions"
   ]
  },
  {
   "cell_type": "code",
   "execution_count": 3,
   "metadata": {},
   "outputs": [
    {
     "data": {},
     "metadata": {},
     "output_type": "display_data"
    },
    {
     "data": {
      "image/png": "[encoded data removed]",
      "text/plain": [
       "plot without title"
      ]
     },
     "metadata": {},
     "output_type": "display_data"
    }
   ],
   "source": [
    "#Building th dataset\n",
    "x_ <- seq(0,200,length.out = 200)\n",
    "y_ = 0.25*x_ - 1\n",
    "df <- data.frame(y_,x_)\n",
    "\n",
    "#plot the dataset\n",
    "g <- ggplot(df,aes(x_,y_))\n",
    "#defines the geometry for the scatter plot\n",
    "g <- g + geom_point(alpha=0.4,colour='#3C77B5',size=5)\n",
    "g + format_g(15) + labels_g('Descriptive title for the plot','x label','y label')"
   ]
  }
 ],
 "metadata": {
  "kernelspec": {
   "display_name": "R",
   "language": "R",
   "name": "ir"
  },
  "language_info": {
   "codemirror_mode": "r",
   "file_extension": ".r",
   "mimetype": "text/x-r-source",
   "name": "R",
   "pygments_lexer": "r",
   "version": "3.5.1"
  }
 },
 "nbformat": 4,
 "nbformat_minor": 2
}
